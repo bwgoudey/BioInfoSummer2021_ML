{
 "cells": [
  {
   "cell_type": "markdown",
   "metadata": {},
   "source": [
    "# ML @ AMSI Bioinfosummer"
   ]
  },
  {
   "cell_type": "markdown",
   "metadata": {},
   "source": [
    "# Welcome\n",
    "Welcome to the workshop! This notebook explores what machine learning is and walks through some common pitfalls. \n",
    "In particular, we will aim to: \n",
    " - Discuss what machine learning may or may not be\n",
    " - Conduct some simple exploratory analysis to understand our chosen dataset/question\n",
    " - Evaluate scenarios where model performance looks great but reduces significantly on unseen data\n",
    " - Provide a passing reference to several classes of model and metrics of model performance\n",
    " - Introduce key concepts of:\n",
    "     - *overfitting*\n",
    "     - *training/validation/testing*\n",
    "     - *hyperparameters*\n",
    " \n",
    "We will not try to teach the algorithms underlying any of the models but will provide some further resources at the bottom of this notebook. \n",
    "\n",
    "## Assumptions\n",
    "\n",
    "*Prior knowledge:* \n",
    "The notebook assume familiarity with python, and a passing familiarity with the pandas, matplotlib/seaborn and numpy/scipy packages. A lot of comments have been placed around the code and the expectation is you should be able to follow along rather than write this code from scratch.  \n",
    "\n",
    "*Setup:* \n",
    "You'll need to have access to this notebook and a python 3.9 instance with \n",
    " - pandas\n",
    " - numpy\n",
    " - sklearn\n",
    " - matplotlib\n",
    " - scipy\n",
    " \n",
    "\n",
    "\n",
    "\n",
    "\n",
    "\n"
   ]
  },
  {
   "cell_type": "markdown",
   "metadata": {},
   "source": [
    "# Task 1: Exploring the data and fitting a basic model\n",
    "\n",
    "Here, we will explore a given dataset related to diabetes and fit a basic model using the scikit-learn package. We aims to \n",
    " - understand the dataset, its variables and their relationship. \n",
    " - introduce the pandas-profiling and scikit-learn packages. \n",
    " - demonstrate how to fit a model using sklearn and look at the outputs. \n",
    "\n",
    "\n",
    "## Dataset\n",
    "\n",
    "We will be making use of a dataset of 442 diabetes patients. This is relatively small in the machine leraning space but is common (or even large) for many clinical/bioinformatis analyses. \n",
    "\n",
    "10 attributes have been measured:\n",
    "- age age in years\n",
    "- sex\n",
    "- bmi body mass index\n",
    "- bp average blood pressure\n",
    "- tc, total serum cholesterol\n",
    "- ldl, low-density lipoproteins\n",
    "- hdl, high-density lipoproteins\n",
    "- tch, total cholesterol / HDL\n",
    "- ltg, possibly log of serum triglycerides level\n",
    "- glu, blood sugar level\n",
    "\n",
    "The target to be predicted is \"a quantitative measure of disease progression one year after baseline\" (Efron et al. (2004)) though  its unclear exactly what this is.\n",
    "\n",
    "The analysis goals from this dataset are typically of a predictive task in this area: \n",
    ">Two hopes were evident [from the data], that the model would produce accurate baseline predictions of response for future patients and that the form of the model would suggest which covariates were important factors in disease progression.\n",
    "\n",
    "Further information is available at https://scikit-learn.org/stable/datasets/toy_dataset.html#diabetes-dataset and data is taken from the original paper https://tibshirani.su.domains/ftp/lars.pdf.\n",
    "\n",
    "We will load in the relevant packages, adjust the dataset to be a binary prediction task, whereby a poor outcome is >100) and will make some adjustments to make the column nicer more descriptive.  "
   ]
  },
  {
   "cell_type": "code",
   "execution_count": 14,
   "metadata": {},
   "outputs": [],
   "source": [
    "# Setup packages and load data\n",
    "# Running this cell should show the top 10 \n",
    "import pandas as pd\n",
    "import numpy as np\n",
    "import sklearn\n",
    "from sklearn.model_selection import train_test_split\n",
    "from sklearn import datasets\n",
    "from sklearn import svm\n",
    "from sklearn import metrics\n",
    "from sklearn.ensemble import RandomForestClassifier\n",
    "from sklearn.linear_model import LogisticRegression\n",
    "\n",
    "from sklearn.preprocessing import StandardScaler\n",
    "import matplotlib.pyplot as plt\n",
    "import seaborn as sns\n",
    "from pandas_profiling import ProfileReport\n",
    "\n",
    "\n",
    "def append_noise(df, n_noise=2):\n",
    "    noise_measures = np.random.rand(df.shape[0],n_noise)\n",
    "    noise_measures = StandardScaler().fit(noise_measures).transform(noise_measures)\n",
    "    noise_names = [\"noise_{}\".format(i) for i in range(n_noise)]\n",
    "    noise_df = pd.DataFrame(data=noise_measures,columns=noise_names)\n",
    "    return(pd.concat([df,noise_df], axis=1))\n",
    "\n",
    "\n",
    "def generate_diabetes_data(n_noise=2, n_corr=0):\n",
    "    # Load in the data as a data.frame, split into X (features) and y (target) \n",
    "    X,y=datasets.load_diabetes(as_frame=True, return_X_y=True)\n",
    "\n",
    "    # Target variable is a quantitative measure of disease progression one year after baseline\n",
    "    # that we dichotimise (turn into two groups) to simplify some analysis. \n",
    "    y=1*(y>100)\n",
    "    \n",
    "    # We rename the variables to be more descriptive\n",
    "    X.rename({'s1': 'tc', \n",
    "              's2': 'ldl', \n",
    "              's3': 'hdl',\n",
    "              's4': 'tch',\n",
    "              's5': 'ltg',\n",
    "              's6': 'glu',}\n",
    "             , axis=1, inplace=True)\n",
    "    \n",
    "    #if (n_corr>0):\n",
    "    #    X=X.assign(glu2 = X['glu']+ np.random.randn(X.shape[0])/100)\n",
    "\n",
    "    if n_noise>0:\n",
    "        X=append_noise(X, n_noise)\n",
    "        \n",
    "    return (X, y)\n",
    "\n",
    "from scipy.stats import multivariate_normal as mvn\n",
    "\n",
    "\n",
    "\n",
    "def generate_novel_data(X_curr, n_samples=1000):\n",
    "    n_noise=X_curr.filter(regex='noise').shape[1]\n",
    "    #Reload data to drop noise and have continuous progression score\n",
    "        # Load in the data as a data.frame, split into X (features) and y (target) \n",
    "    X,y=datasets.load_diabetes(as_frame=True, return_X_y=True)\n",
    "\n",
    "    # We rename the variables to be more descriptive\n",
    "    X.rename({'s1': 'tc', \n",
    "              's2': 'ldl', \n",
    "              's3': 'hdl',\n",
    "              's4': 'tch',\n",
    "              's5': 'ltg',\n",
    "              's6': 'glu',}\n",
    "             , axis=1, inplace=True)\n",
    "             \n",
    "    df=X.assign(y = y)\n",
    "\n",
    "    sim_dat = mvn.rvs(mean = df.mean(), cov=df.cov(), size = n_samples)\n",
    "    sim_X_y = pd.DataFrame(data = sim_dat, columns = df.columns)\n",
    "    #sns.kdeplot(data=sim_X_y, x=\"y\")\n",
    "\n",
    "\n",
    "    sim_y=1*(sim_X_y['y']>100)\n",
    "    sim_X=sim_X_y.drop(columns=['y'])\n",
    "    \n",
    "    if n_noise>0:\n",
    "        sim_X=append_noise(sim_X, n_noise)\n",
    "    \n",
    "    return(sim_X, sim_y)\n",
    "    \n",
    "\n",
    "def plot_roc(y, yp, label=\"\", ax=None):\n",
    "    fpr, tpr, thresh = metrics.roc_curve(y, yp)\n",
    "    auc = metrics.roc_auc_score(y, yp)\n",
    "    if ax:\n",
    "        ax.plot(fpr,tpr,label=\"{} AUC={:.2f}\".format(label, auc))\n",
    "    else:\n",
    "        plt.plot(fpr,tpr,label=\"{} AUC={:.2f}\".format(label, auc))\n"
   ]
  },
  {
   "cell_type": "markdown",
   "metadata": {},
   "source": [
    "### 1. 1 Data exploration\n",
    "We'll begin by exploring the data that is available. While we have a description of the fields, understanding the relationships between individual features and their relationship with the outcome of interest is informative for helping to understand downstream. \n",
    "\n",
    "Rather than try to generate a bunch of plots manually, we can make use of a package called *pandas-profiling*, which provides a bunch of handy plots. *This will take approximately 90 seconds to run*. After that a small report below will be generated that provides an overview of the different features and their relationships. \n",
    "\n",
    "**Examine the following:**\n",
    "\n",
    "1. What are the different types of features - which are numerical? which are categorical? are any unclear?\n",
    "2. Which features are correlated with each other? How strong are these?\n",
    "3. Is there anything unexpected about the data?\n",
    "4. Is there any missing data?\n",
    "5. What does the target variable look like? What is its distribution? Are there any obvious relationships?\n",
    "\n"
   ]
  },
  {
   "cell_type": "code",
   "execution_count": 27,
   "metadata": {},
   "outputs": [
    {
     "name": "stdout",
     "output_type": "stream",
     "text": [
      "          age       sex       bmi        bp        tc       ldl       hdl  \\\n",
      "0    0.007678 -0.034938 -0.000992  0.033139 -0.011088 -0.007642  0.009725   \n",
      "1    0.091446  0.045418  0.070535  0.120335  0.022138 -0.015394 -0.028603   \n",
      "2    0.004750 -0.043908 -0.052948 -0.020575  0.056370  0.013795  0.076011   \n",
      "3    0.021783  0.000015 -0.012655 -0.003803 -0.014964  0.001033  0.010923   \n",
      "4    0.059281 -0.012984  0.103688  0.061998  0.005196  0.007476 -0.023043   \n",
      "..        ...       ...       ...       ...       ...       ...       ...   \n",
      "995 -0.020346 -0.011217  0.053852  0.023035 -0.025480  0.000602  0.007088   \n",
      "996  0.015812  0.009673 -0.022207 -0.020098 -0.065624 -0.074632  0.067804   \n",
      "997  0.018374 -0.047103  0.041612  0.044057 -0.011406 -0.016597  0.016517   \n",
      "998 -0.020370 -0.097216  0.058473 -0.030115 -0.112569 -0.088203 -0.041719   \n",
      "999  0.052963  0.009013  0.006388 -0.005569  0.033316  0.018412 -0.019102   \n",
      "\n",
      "          tch       ltg       glu  ...  noise_190  noise_191  noise_192  \\\n",
      "0   -0.049520 -0.003030 -0.013531  ...  -1.306439   1.285237  -0.938507   \n",
      "1    0.037545  0.105368  0.094089  ...  -1.246111  -0.979065   0.788145   \n",
      "2   -0.028945  0.037076  0.029147  ...   0.513574  -0.907788   0.687960   \n",
      "3   -0.021924 -0.026689 -0.085954  ...  -1.595996   1.329296   0.299873   \n",
      "4    0.023243  0.028016  0.107428  ...  -0.229344   1.236506  -0.655946   \n",
      "..        ...       ...       ...  ...        ...        ...        ...   \n",
      "995 -0.020210 -0.046065 -0.017695  ...  -0.466828  -0.716178   1.701718   \n",
      "996 -0.077496 -0.049624 -0.064184  ...   0.789859  -0.638994   0.982287   \n",
      "997 -0.042798 -0.033659  0.009929  ...  -1.536568   0.233164  -0.817043   \n",
      "998 -0.045997 -0.028701  0.058367  ...   1.738067  -0.803693   0.646733   \n",
      "999  0.040258  0.068793  0.035484  ...   1.608175  -0.393159   1.351172   \n",
      "\n",
      "     noise_193  noise_194  noise_195  noise_196  noise_197  noise_198  \\\n",
      "0     0.678258   1.636522   1.630751   0.796389   1.642032   1.364982   \n",
      "1     1.074209  -0.856153  -1.558661   0.075720   0.364449   0.019104   \n",
      "2     1.611306  -1.428794   0.808814  -1.466671   1.015302   0.247036   \n",
      "3     0.228082   0.063395   1.557269  -0.358503   0.585205  -1.156767   \n",
      "4    -0.225622   1.415445   0.928492   1.164228   0.369960  -1.520959   \n",
      "..         ...        ...        ...        ...        ...        ...   \n",
      "995  -0.748404   1.768872  -0.039586   1.322499  -0.681170  -0.227001   \n",
      "996   0.742205  -0.376274   1.189406  -0.344507   0.037641   0.463339   \n",
      "997   0.175912  -0.692444   1.230074  -0.880592  -1.144514   1.327388   \n",
      "998   0.200634  -0.220724   0.918011   1.393571   0.168914   1.570139   \n",
      "999   0.172804  -0.384370   0.975255   1.544641   0.356518  -0.466514   \n",
      "\n",
      "     noise_199  \n",
      "0     1.145727  \n",
      "1     1.246273  \n",
      "2     0.744457  \n",
      "3    -1.410339  \n",
      "4    -1.085318  \n",
      "..         ...  \n",
      "995  -0.066046  \n",
      "996  -1.461983  \n",
      "997   0.444082  \n",
      "998  -0.760090  \n",
      "999   0.272243  \n",
      "\n",
      "[1000 rows x 210 columns]\n"
     ]
    }
   ],
   "source": [
    "# This cell creates of the dataframe that has been entered. \n",
    "X, y = generate_diabetes_data(n_noise=200)\n",
    "\n",
    "X_y = X.assign(y = y)\n",
    "#print(X)\n",
    "\n",
    "#profile = ProfileReport(X_y)\n",
    "\n",
    "#profile.to_widgets()\n",
    "# If you've installed pandas-profiling 3.1.0, you may need to replace the previous line, with the comment below. \n",
    "#profile.to_notebook_iframe()\n",
    "\n",
    "X_sim, y_sim=generate_novel_data(X, n_samples=1000)\n",
    "print(X_sim)\n"
   ]
  },
  {
   "cell_type": "markdown",
   "metadata": {},
   "source": [
    "### Fitting a model to the data\n",
    "\n",
    "Lets fit a simple logistic regression to the data and look at how well it makes predictions on the data. The code below will fit a simple logistic regression , using only a single predictor (bmi), to allow for simple plots of the fit, and then using all available features. \n",
    "\n",
    "We begin by plotting the data, the model fit and some classic summary statistics. \n",
    "\n",
    "*Question*:\n",
    " - Which features are the most predictive?\n",
    " - How much improvement to you get if you combined features?\n",
    " - Try regenerating the dataset with some variables that are just noise (n_noise=<int>). What happens as you add more noisy variables?\n",
    " \n"
   ]
  },
  {
   "cell_type": "code",
   "execution_count": 29,
   "metadata": {},
   "outputs": [
    {
     "data": {
      "text/plain": [
       "<matplotlib.legend.Legend at 0x7fd4a8753d30>"
      ]
     },
     "execution_count": 29,
     "metadata": {},
     "output_type": "execute_result"
    },
    {
     "data": {
      "image/png": "[encoded data removed]",
      "text/plain": [
       "<Figure size 432x288 with 3 Axes>"
      ]
     },
     "metadata": {
      "needs_background": "light"
     },
     "output_type": "display_data"
    }
   ],
   "source": [
    "# If you feel like generating more data, uncomment this line. \n",
    "#X, y = generate_diabetes_data(n_noise=2, n_corr=1)\n",
    "\n",
    "# The features used to construct the model\n",
    "# Change these and see how the results change\n",
    "#features=\"bmi\"\n",
    "#features=\"age\"\n",
    "#features=[\"bmi\", \"glu\"]\n",
    "features= X.columns\n",
    "\n",
    "# sklearn models expect a 2D array. However, when only a single column is selected in pandas, it is a\n",
    "# 1D array. This conditional checks for when our input is a single column and turns it into a 2D array for sklearn. \n",
    "# to \n",
    "\n",
    "\n",
    "\n",
    "if type(features)==str:\n",
    "    X_train  = X.loc[:, features].values.reshape(-1,1)\n",
    "    X_sim_eval   = X_sim.loc[:, features].values.reshape(-1,1)\n",
    "else:\n",
    "    X_train = X.loc[:, features]\n",
    "    X_sim_eval = X_sim.loc[:, features]\n",
    "        \n",
    "#Construct a classifier\n",
    "clf = LogisticRegression(penalty='none', solver=\"newton-cg\").fit(X_train, y)\n",
    "\n",
    "# Get preidcted labels from the classifier\n",
    "y_pred = clf.predict_proba(X_train)[:,1]\n",
    "y_sim_pred = clf.predict_proba(X_sim_eval)[:,1]\n",
    "\n",
    "\n",
    "#\n",
    "# Plot the results\n",
    "fig, ax =plt.subplots(1,3)\n",
    "\n",
    "# Plot the distribution of predicted values for people who progress and people who don't\n",
    "# Could change to 'kind=\"hist\"' if you want the histogram rather than density\n",
    "sns.kdeplot(data=X_y.assign(y_pred = y_pred), x=\"y_pred\", hue=\"y\", ax=ax[0])\n",
    "\n",
    "# PLot a ROC curve and show the area under the curve. \n",
    "plot_roc(y, y_pred, ax=ax[1])\n",
    "ax[1].legend(loc=0)\n",
    "\n",
    "# PLot a ROC curve and show the area under the curve. \n",
    "plot_roc(y_sim, y_sim_pred, ax=ax[2])\n",
    "ax[2].legend(loc=0)\n",
    "\n",
    "#print(clf.coef_, clf.intercept_)"
   ]
  },
  {
   "cell_type": "markdown",
   "metadata": {
    "scrolled": true
   },
   "source": [
    "<hr style=\"border:2px solid gray\"> </hr>\n",
    "\n",
    "# Exercise 2: How to overfit and how to detect\n",
    "\n",
    "In the previous example, we built model on entire dataset and evaluated its performance on the same data. Here, we will explore some alternative frameworks for doing this and will evaluate how model performance changes. We'll also start to explore different models and how key parameters can be altered to change prediction performance. "
   ]
  },
  {
   "cell_type": "markdown",
   "metadata": {},
   "source": [
    "# Training and Test split\n",
    "\n",
    "Questions: \n",
    "1. Run this a few times. Which values change? Why?\n",
    "2. What is the best performance you can get by default? What is the worst performance you observe?\n",
    "3. What happens to test performance as you add more noise variables?"
   ]
  },
  {
   "cell_type": "code",
   "execution_count": 85,
   "metadata": {},
   "outputs": [
    {
     "data": {
      "text/plain": [
       "<matplotlib.legend.Legend at 0x7fd4a6ddcf70>"
      ]
     },
     "execution_count": 85,
     "metadata": {},
     "output_type": "execute_result"
    },
    {
     "data": {
      "image/png": "[encoded data removed]",
      "text/plain": [
       "<Figure size 432x288 with 1 Axes>"
      ]
     },
     "metadata": {
      "needs_background": "light"
     },
     "output_type": "display_data"
    }
   ],
   "source": [
    "#Select a model to construct\n",
    "#\n",
    "#clf = sklearn.linear_model.LogisticRegression(penalty='l2',C=0.001)\n",
    "#clf = sklearn.linear_model.LogisticRegression(penalty='none').fit(X, y)\n",
    "clf = RandomForestClassifier(max_depth=20, random_state=0)\n",
    "\n",
    "\n",
    "\n",
    "# If you feel like generating more data, uncomment this line. \n",
    "X, y = generate_diabetes_data(n_noise=200, n_corr=1)\n",
    "\n",
    "\n",
    "# Split data into train and test sets\n",
    "X_train, X_test, y_train, y_test = train_test_split(X, y, test_size=0.2)\n",
    "\n",
    "\n",
    "\n",
    "\n",
    "#pred_all=clf.predict_proba(X)[:,1]\n",
    "#plt.figure(0).clf()\n",
    "\n",
    "scenarios = {\n",
    "                #\"Tr:all_Te:all\":    {\"train\":{'X':X,'y':y}, \"test\":{'X':X,'y':y}}, \n",
    "                #\"Tr:train_Te:train\":  {\"train\":{'X':X_train,'y':y_train}, \"test\":{'X':X_train,'y':y_train}}, \n",
    "                \"Tr:train_Te:test\":   {\"train\":{'X':X_train,'y':y_train}, \"test\":{'X':X_test,'y':y_test}}\n",
    "            }\n",
    "\n",
    "for name, sc in scenarios.items():\n",
    "    clf.fit(sc['train']['X'], sc['train']['y'])\n",
    "    yp=clf.predict_proba(sc['test']['X'])[:,1]\n",
    "    yp2=clf.predict_proba(X_sim)[:,1]\n",
    "    plot_roc(sc['test']['y'], yp, name)\n",
    "    plot_roc(y_sim, yp2, name+\"_ext\")\n",
    "    \n",
    "plt.legend(loc=0)"
   ]
  },
  {
   "cell_type": "markdown",
   "metadata": {},
   "source": [
    "Variability in the previous example motivates the use of cross validation\n",
    " - Add some box plots here\n",
    " - Compare different types of models\n",
    " - Look at impact of noise"
   ]
  },
  {
   "cell_type": "code",
   "execution_count": null,
   "metadata": {},
   "outputs": [],
   "source": [
    "from sklearn.model_selection import cross_val_score\n",
    "from sklearn.metrics import roc_auc_score\n",
    "scores = cross_val_score(clf, X, y, cv=10, scoring=\"roc_auc\")\n",
    "#sorted(sklearn.metrics.SCORERS.keys())\n",
    "scores"
   ]
  },
  {
   "cell_type": "markdown",
   "metadata": {},
   "source": [
    "# Overfitting via feature selection and model parameters\n",
    "Its a big deal"
   ]
  },
  {
   "cell_type": "code",
   "execution_count": null,
   "metadata": {},
   "outputs": [],
   "source": [
    "help('modules')\n",
    "\n"
   ]
  }
 ],
 "metadata": {
  "kernelspec": {
   "display_name": "Python 3 (ipykernel)",
   "language": "python",
   "name": "python3"
  },
  "language_info": {
   "codemirror_mode": {
    "name": "ipython",
    "version": 3
   },
   "file_extension": ".py",
   "mimetype": "text/x-python",
   "name": "python",
   "nbconvert_exporter": "python",
   "pygments_lexer": "ipython3",
   "version": "3.8.10"
  }
 },
 "nbformat": 4,
 "nbformat_minor": 4
}
