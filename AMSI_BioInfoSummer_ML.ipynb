{
 "cells": [
  {
   "cell_type": "markdown",
   "metadata": {},
   "source": [
    "# ML @ AMSI Bioinfosummer"
   ]
  },
  {
   "cell_type": "markdown",
   "metadata": {},
   "source": [
    "# Welcome\n",
    "Welcome to the workshop! This notebook explores what machine learning is and walks through some common pitfalls. \n",
    "In particular, we will aim to: \n",
    " - Discuss what machine learning may or may not be\n",
    " - Conduct some simple exploratory analysis to understand our chosen dataset/question\n",
    " - Evaluate scenarios where model performance looks great but reduces significantly on unseen data\n",
    " - Provide a passing reference to several classes of model and metrics of model performance\n",
    " - Introduce key concepts of:\n",
    "     - *overfitting*\n",
    "     - *training/validation/testing*\n",
    "     - *hyperparameters*\n",
    " \n",
    "We will not try to teach the algorithms underlying any of the models but will provide some further resources at the bottom of this notebook. \n",
    "\n",
    "## Assumptions\n",
    "\n",
    "*Prior knowledge:* \n",
    "The notebook assume familiarity with python, and a passing familiarity with the pandas, matplotlib/seaborn and numpy/scipy packages. A lot of comments have been placed around the code and the expectation is you should be able to follow along rather than write this code from scratch.  \n",
    "\n",
    "*Setup:* \n",
    "You'll need to have access to this notebook and a python 3.9 instance with \n",
    " - pandas\n",
    " - numpy\n",
    " - sklearn\n",
    " - matplotlib\n",
    " - scipy\n",
    " \n",
    "\n",
    "\n",
    "\n",
    "\n",
    "\n"
   ]
  },
  {
   "cell_type": "markdown",
   "metadata": {},
   "source": [
    "# Task 1: Exploring the data and fitting a basic model\n",
    "\n",
    "Here, we will explore a given dataset related to diabetes and fit a basic model using the scikit-learn package. We aims to \n",
    " - understand the dataset, its variables and their relationship. \n",
    " - introduce the pandas-profiling and scikit-learn packages. \n",
    " - demonstrate how to fit a model using sklearn and look at the outputs. \n",
    "\n",
    "\n",
    "## Dataset\n",
    "\n",
    "We will be making use of a dataset of 442 diabetes patients. This is relatively small in the machine leraning space but is common (or even large) for many clinical/bioinformatis analyses. \n",
    "\n",
    "10 attributes have been measured:\n",
    "- age age in years\n",
    "- sex\n",
    "- bmi body mass index\n",
    "- bp average blood pressure\n",
    "- tc, total serum cholesterol\n",
    "- ldl, low-density lipoproteins\n",
    "- hdl, high-density lipoproteins\n",
    "- tch, total cholesterol / HDL\n",
    "- ltg, possibly log of serum triglycerides level\n",
    "- glu, blood sugar level\n",
    "\n",
    "The target to be predicted is \"a quantitative measure of disease progression one year after baseline\" (Efron et al. (2004)) though  its unclear exactly what this is.\n",
    "\n",
    "The analysis goals from this dataset are typically of a predictive task in this area: \n",
    ">Two hopes were evident [from the data], that the model would produce accurate baseline predictions of response for future patients and that the form of the model would suggest which covariates were important factors in disease progression.\n",
    "\n",
    "Further information is available at https://scikit-learn.org/stable/datasets/toy_dataset.html#diabetes-dataset and data is taken from the original paper https://tibshirani.su.domains/ftp/lars.pdf.\n",
    "\n",
    "We will load in the relevant packages, adjust the dataset to be a binary prediction task, whereby a poor outcome is >100) and will make some adjustments to make the column nicer more descriptive.  "
   ]
  },
  {
   "cell_type": "code",
   "execution_count": 117,
   "metadata": {},
   "outputs": [],
   "source": [
    "# Setup packages and load data\n",
    "# Running this cell should show the top 10 \n",
    "import pandas as pd\n",
    "import numpy as np\n",
    "import sklearn\n",
    "from sklearn.model_selection import train_test_split\n",
    "from sklearn import datasets\n",
    "from sklearn import svm\n",
    "from sklearn import metrics\n",
    "from sklearn.ensemble import RandomForestClassifier\n",
    "from sklearn.linear_model import LogisticRegression\n",
    "\n",
    "from sklearn.preprocessing import StandardScaler\n",
    "import matplotlib.pyplot as plt\n",
    "import seaborn as sns\n",
    "from pandas_profiling import ProfileReport\n",
    "\n",
    "\n",
    "def generate_diabetes_data(n_noise=2, n_corr=0):\n",
    "    # Load in the data as a data.frame, split into X (features) and y (target) \n",
    "    X,y=datasets.load_diabetes(as_frame=True, return_X_y=True)\n",
    "\n",
    "    # Target variable is a quantitative measure of disease progression one year after baseline\n",
    "    # that we dichotimise (turn into two groups) to simplify some analysis. \n",
    "    y=1*(y>100)\n",
    "    \n",
    "    # We rename the variables to be more descriptive\n",
    "    X.rename({'s1': 'tc', \n",
    "              's2': 'ldl', \n",
    "              's3': 'hdl',\n",
    "              's4': 'tch',\n",
    "              's5': 'ltg',\n",
    "              's6': 'glu',}\n",
    "             , axis=1, inplace=True)\n",
    "    \n",
    "    if (n_corr>0):\n",
    "        X=X.assign(glu2 = X['glu']+ np.random.randn(X.shape[0])/100)\n",
    "\n",
    "    if n_noise>0:\n",
    "        noise_measures = np.random.rand(X.shape[0],n_noise)\n",
    "        noise_measures = StandardScaler().fit(noise_measures).transform(noise_measures)\n",
    "        noise_names = [\"noise_{}\".format(i) for i in range(n_noise)]\n",
    "        noise_df = pd.DataFrame(data=noise_measures,columns=noise_names)\n",
    "        X = pd.concat([X,noise_df], axis=1)\n",
    "        \n",
    "    return (X, y)\n",
    "\n",
    "\n",
    "#def generate_novel_data(df, noise_factor, )\n",
    "\n"
   ]
  },
  {
   "cell_type": "markdown",
   "metadata": {},
   "source": [
    "### 1. 1 Data exploration\n",
    "We'll begin by exploring the data that is available. While we have a description of the fields, understanding the relationships between individual features and their relationship with the outcome of interest is informative for helping to understand downstream. \n",
    "\n",
    "Rather than try to generate a bunch of plots manually, we can make use of a package called *pandas-profiling*, which provides a bunch of handy plots. *This will take approximately 90 seconds to run*. After that a small report below will be generated that provides an overview of the different features and their relationships. \n",
    "\n",
    "**Examine the following:**\n",
    "\n",
    "1. What are the different types of features - which are numerical? which are categorical? are any unclear?\n",
    "2. Which features are correlated with each other? How strong are these?\n",
    "3. Is there anything unexpected about the data?\n",
    "4. Is there any missing data?\n",
    "5. What does the target variable look like? What is its distribution? Are there any obvious relationships?\n",
    "\n"
   ]
  },
  {
   "cell_type": "code",
   "execution_count": 18,
   "metadata": {},
   "outputs": [
    {
     "data": {
      "application/vnd.jupyter.widget-view+json": {
       "model_id": "b7908e2c86614bd486a5bcf0ba3406a9",
       "version_major": 2,
       "version_minor": 0
      },
      "text/plain": [
       "Summarize dataset:   0%|          | 0/27 [00:00<?, ?it/s]"
      ]
     },
     "metadata": {},
     "output_type": "display_data"
    },
    {
     "data": {
      "application/vnd.jupyter.widget-view+json": {
       "model_id": "62add4b001604e9b863f3f8c2c4db843",
       "version_major": 2,
       "version_minor": 0
      },
      "text/plain": [
       "Generate report structure:   0%|          | 0/1 [00:00<?, ?it/s]"
      ]
     },
     "metadata": {},
     "output_type": "display_data"
    },
    {
     "data": {
      "application/vnd.jupyter.widget-view+json": {
       "model_id": "",
       "version_major": 2,
       "version_minor": 0
      },
      "text/plain": [
       "Render widgets:   0%|          | 0/1 [00:00<?, ?it/s]"
      ]
     },
     "metadata": {},
     "output_type": "display_data"
    },
    {
     "data": {
      "application/vnd.jupyter.widget-view+json": {
       "model_id": "206c5b4dde0d469f904235b795d42230",
       "version_major": 2,
       "version_minor": 0
      },
      "text/plain": [
       "VBox(children=(Tab(children=(Tab(children=(GridBox(children=(VBox(children=(GridspecLayout(children=(HTML(valu…"
      ]
     },
     "metadata": {},
     "output_type": "display_data"
    }
   ],
   "source": [
    "# This cell creates of the dataframe that has been entered. \n",
    "X, y = generate_diabetes_data(2)\n",
    "X_y = X.assign(y = y)\n",
    "profile = ProfileReport(X_y)\n",
    "\n",
    "profile.to_widgets()\n",
    "# If you've installed pandas-profiling 3.1.0, you may need to replace the previous line, with the comment below. \n",
    "#profile.to_notebook_iframe()"
   ]
  },
  {
   "cell_type": "markdown",
   "metadata": {},
   "source": [
    "### Fitting a model to the data\n",
    "\n",
    "Lets fit a simple logistic regression to the data and look at how well it makes predictions on the data. The code below will fit a simple logistic regression , using only a single predictor (bmi), to allow for simple plots of the fit, and then using all available features. \n",
    "\n",
    "We begin by plotting the data, the model fit and some classic summary statistics. \n",
    "\n",
    "*Question*:\n",
    " - Which features are the most predictive?\n",
    " - How much improvement to you get if you combined features?\n",
    " - Try regenerating the dataset with some variables that are just noise (n_noise=<int>). What happens as you add more noisy variables?\n",
    " \n"
   ]
  },
  {
   "cell_type": "code",
   "execution_count": 112,
   "metadata": {},
   "outputs": [
    {
     "data": {
      "text/plain": [
       "<matplotlib.legend.Legend at 0x7f05f4e2eca0>"
      ]
     },
     "execution_count": 112,
     "metadata": {},
     "output_type": "execute_result"
    },
    {
     "data": {
      "image/png": "[encoded data removed]",
      "text/plain": [
       "<Figure size 432x288 with 2 Axes>"
      ]
     },
     "metadata": {
      "needs_background": "light"
     },
     "output_type": "display_data"
    }
   ],
   "source": [
    "# If you feel like generating more data, uncomment this line. \n",
    "#X, y = generate_diabetes_data(n_noise=2, n_corr=1)\n",
    "\n",
    "# The features used to construct the model\n",
    "# Change these and see how the results change\n",
    "#features=\"bmi\"\n",
    "#features=\"age\"\n",
    "#features=[\"bmi\", \"glu\"]\n",
    "#features= X.columns\n",
    "\n",
    "# sklearn models expect a 2D array. However, when only a single column is selected in pandas, it is a\n",
    "# 1D array. This conditional checks for when our input is a single column and turns it into a 2D array for sklearn. \n",
    "# to \n",
    "if type(features)==str:\n",
    "    X_train  = X.loc[:, features].values.reshape(-1,1)\n",
    "else:\n",
    "    X_train  = X.loc[:, features]\n",
    "        \n",
    "#Construct a classifier\n",
    "clf = LogisticRegression(penalty='none', solver=\"newton-cg\").fit(X_train, y)\n",
    "\n",
    "# Get preidcted labels from the classifier\n",
    "y_pred = clf.predict_proba(X_train)[:,1]\n",
    "\n",
    "\n",
    "#\n",
    "# Plot the results\n",
    "fig, ax =plt.subplots(1,2)\n",
    "\n",
    "# Plot the distribution of predicted values for people who progress and people who don't\n",
    "# Could change to 'kind=\"hist\"' if you want the histogram rather than density\n",
    "sns.kdeplot(data=X_y.assign(y_pred = y_pred), x=\"y_pred\", hue=\"y\", ax=ax[0])\n",
    "\n",
    "# PLot a ROC curve and show the area under the curve. \n",
    "fpr, tpr, thresh = metrics.roc_curve(y, y_pred)\n",
    "auc = metrics.roc_auc_score(y, y_pred)\n",
    "ax[1].plot(fpr,tpr,label=\"AUC={:.2f}\".format(auc))\n",
    "ax[1].legend(loc=0)\n"
   ]
  },
  {
   "cell_type": "markdown",
   "metadata": {
    "scrolled": true
   },
   "source": [
    "<hr style=\"border:2px solid gray\"> </hr>\n",
    "\n",
    "# Exercise 2: How to overfit and how to detect\n",
    "\n",
    "In the previous example, we built model on entire dataset and evaluated its performance on the same data. Here, we will explore some alternative frameworks for doing this and will evaluate how model performance changes. We'll also start to explore different models and how key parameters can be altered to change prediction performance. "
   ]
  },
  {
   "cell_type": "markdown",
   "metadata": {},
   "source": [
    "# Training and Test split\n",
    "\n",
    "Questions: \n",
    "1. Run this a few times. Which values change? Why?\n",
    "2. What is the best performance you can get by default? What is the worst performance you observe?\n",
    "3. What happens to test performance as you add more noise variables?"
   ]
  },
  {
   "cell_type": "code",
   "execution_count": 167,
   "metadata": {},
   "outputs": [
    {
     "data": {
      "text/plain": [
       "<matplotlib.legend.Legend at 0x7f05ef9e1ac0>"
      ]
     },
     "execution_count": 167,
     "metadata": {},
     "output_type": "execute_result"
    },
    {
     "data": {
      "image/png": "[encoded data removed]",
      "text/plain": [
       "<Figure size 432x288 with 1 Axes>"
      ]
     },
     "metadata": {
      "needs_background": "light"
     },
     "output_type": "display_data"
    }
   ],
   "source": [
    "#Select a model to construct\n",
    "#\n",
    "#clf = sklearn.linear_model.LogisticRegression(penalty='l2',C=100)\n",
    "#clf = sklearn.linear_model.LogisticRegression(penalty='none').fit(X, y)\n",
    "clf = RandomForestClassifier(max_depth=2, random_state=0)\n",
    "\n",
    "\n",
    "# If you feel like generating more data, uncomment this line. \n",
    "X, y = generate_diabetes_data(n_noise=200, n_corr=1)\n",
    "\n",
    "\n",
    "# Split data into train and test sets\n",
    "X_train, X_test, y_train, y_test = train_test_split(X, y, test_size=0.2)\n",
    "\n",
    "\n",
    "def plot_roc(y, yp, label):\n",
    "    fpr, tpr, thresh = metrics.roc_curve(y, yp)\n",
    "    auc = metrics.roc_auc_score(y, yp)\n",
    "    plt.plot(fpr,tpr,label=\"{} auc={:.2f}\".format(label, auc))\n",
    "\n",
    "\n",
    "#pred_all=clf.predict_proba(X)[:,1]\n",
    "#plt.figure(0).clf()\n",
    "\n",
    "scenarios = {\n",
    "                \"Tr:all_Te:all\":    {\"train\":{'X':X,'y':y}, \"test\":{'X':X,'y':y}}, \n",
    "                \"Tr:train_Te:train\":  {\"train\":{'X':X_train,'y':y_train}, \"test\":{'X':X_train,'y':y_train}}, \n",
    "                \"Tr:train_Te:test\":   {\"train\":{'X':X_train,'y':y_train}, \"test\":{'X':X_test,'y':y_test}}\n",
    "            }\n",
    "\n",
    "for name, sc in scenarios.items():\n",
    "    clf.fit(sc['train']['X'], sc['train']['y'])\n",
    "    yp=clf.predict_proba(sc['test']['X'])[:,1]\n",
    "    plot_roc(sc['test']['y'], yp, name)\n",
    "\n",
    "plt.legend(loc=0)"
   ]
  },
  {
   "cell_type": "markdown",
   "metadata": {},
   "source": [
    "Variability in the previous example motivates the use of cross validation\n",
    " - Add some box plots here\n",
    " - Compare different types of models\n",
    " - Look at impact of noise"
   ]
  },
  {
   "cell_type": "code",
   "execution_count": null,
   "metadata": {},
   "outputs": [],
   "source": [
    "from sklearn.model_selection import cross_val_score\n",
    "from sklearn.metrics import roc_auc_score\n",
    "scores = cross_val_score(clf, X, y, cv=10, scoring=\"roc_auc\")\n",
    "#sorted(sklearn.metrics.SCORERS.keys())\n",
    "scores"
   ]
  },
  {
   "cell_type": "markdown",
   "metadata": {},
   "source": [
    "# Overfitting via feature selection and model parameters\n",
    "Its a big deal"
   ]
  },
  {
   "cell_type": "code",
   "execution_count": null,
   "metadata": {},
   "outputs": [],
   "source": [
    "help('modules')\n",
    "\n"
   ]
  }
 ],
 "metadata": {
  "kernelspec": {
   "display_name": "Python 3 (ipykernel)",
   "language": "python",
   "name": "python3"
  },
  "language_info": {
   "codemirror_mode": {
    "name": "ipython",
    "version": 3
   },
   "file_extension": ".py",
   "mimetype": "text/x-python",
   "name": "python",
   "nbconvert_exporter": "python",
   "pygments_lexer": "ipython3",
   "version": "3.8.10"
  }
 },
 "nbformat": 4,
 "nbformat_minor": 4
}
