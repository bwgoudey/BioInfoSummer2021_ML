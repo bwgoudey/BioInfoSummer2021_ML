{
 "cells": [
  {
   "cell_type": "markdown",
   "metadata": {},
   "source": [
    "# ML @ AMSI Bioinfosummer"
   ]
  },
  {
   "cell_type": "markdown",
   "metadata": {},
   "source": [
    "This is a notebook containing some code for ML @ AMSI Bioinfosummer"
   ]
  },
  {
   "cell_type": "code",
   "execution_count": 10,
   "metadata": {
    "scrolled": true
   },
   "outputs": [
    {
     "name": "stdout",
     "output_type": "stream",
     "text": [
      "Here is some code\n"
     ]
    }
   ],
   "source": [
    "import wget # to download from zenodo\n",
    "import pandas as pd\n",
    "import numpy as np\n",
    "from sklearn.model_selection import train_test_split\n",
    "from sklearn import datasets\n",
    "from sklearn import svm\n",
    "from sklearn import metrics\n",
    "from sklearn.linear_model import LogisticRegression\n",
    "import matplotlib.pyplot as plt\n",
    "\n",
    "\n",
    "print(\"Here is some code\")\n"
   ]
  },
  {
   "cell_type": "markdown",
   "metadata": {},
   "source": [
    "## Datasets\n",
    "We're going to load a diabetes dataset with few hundred features and try to predict outcome one year into the future. Specifically, our outcome is whether a certain measure is over 100. This example is very poor right now, so I'll see if I can find a COVID one. "
   ]
  },
  {
   "cell_type": "code",
   "execution_count": 11,
   "metadata": {},
   "outputs": [
    {
     "name": "stdout",
     "output_type": "stream",
     "text": [
      "(442, 10) (442,)\n"
     ]
    }
   ],
   "source": [
    "X,y=datasets.load_diabetes(return_X_y=True)\n",
    "y=y>100\n",
    "print(X.shape, y.shape)\n"
   ]
  },
  {
   "cell_type": "markdown",
   "metadata": {},
   "source": [
    "We'll have a whole section on exploratory plots as that is always important. What is the data we have? What are the relationships? Worth understanding before we get started. \n",
    "\n",
    "## Experimental \n",
    "\n",
    "What if we just build model on entire dataset on the entire dataset?"
   ]
  },
  {
   "cell_type": "code",
   "execution_count": 12,
   "metadata": {},
   "outputs": [
    {
     "data": {
      "text/plain": [
       "[<matplotlib.lines.Line2D at 0x7f94daf69990>]"
      ]
     },
     "execution_count": 12,
     "metadata": {},
     "output_type": "execute_result"
    },
    {
     "data": {
      "image/png": "[encoded data removed]",
      "text/plain": [
       "<Figure size 432x288 with 1 Axes>"
      ]
     },
     "metadata": {
      "needs_background": "light"
     },
     "output_type": "display_data"
    }
   ],
   "source": [
    "clf = LogisticRegression(penalty='l2').fit(X, y)\n",
    "pred_all=clf.predict_proba(X)[:,1]\n",
    "plt.figure(0).clf()\n",
    "\n",
    "fpr, tpr, thresh = metrics.roc_curve(y, pred_all)\n",
    "auc = metrics.roc_auc_score(y, pred_all)\n",
    "plt.plot(fpr,tpr,label=\"Train, auc={:.2f}\".format(auc))"
   ]
  },
  {
   "cell_type": "code",
   "execution_count": 13,
   "metadata": {},
   "outputs": [
    {
     "data": {
      "text/plain": [
       "((397, 10), (397,))"
      ]
     },
     "execution_count": 13,
     "metadata": {},
     "output_type": "execute_result"
    }
   ],
   "source": [
    "X_train, X_test, y_train, y_test = train_test_split(X, y, test_size=0.1, random_state=0)\n",
    "X_train.shape, y_train.shape"
   ]
  },
  {
   "cell_type": "code",
   "execution_count": 14,
   "metadata": {},
   "outputs": [
    {
     "data": {
      "text/plain": [
       "((45, 10), (45,))"
      ]
     },
     "execution_count": 14,
     "metadata": {},
     "output_type": "execute_result"
    }
   ],
   "source": [
    "X_test.shape, y_test.shape"
   ]
  },
  {
   "cell_type": "code",
   "execution_count": 15,
   "metadata": {},
   "outputs": [
    {
     "data": {
      "text/plain": [
       "<matplotlib.legend.Legend at 0x7f94db011d10>"
      ]
     },
     "execution_count": 15,
     "metadata": {},
     "output_type": "execute_result"
    },
    {
     "data": {
      "image/png": "[encoded data removed]",
      "text/plain": [
       "<Figure size 432x288 with 1 Axes>"
      ]
     },
     "metadata": {
      "needs_background": "light"
     },
     "output_type": "display_data"
    }
   ],
   "source": [
    "clf = LogisticRegression(penalty='l2').fit(X_train, y_train)\n",
    "#clf.score(X_test, y_test)\n",
    "\n",
    "\n",
    "pred_train=clf.predict_proba(X_train)[:,1]\n",
    "pred_test=clf.predict_proba(X_test)[:,1]\n",
    "\n",
    "\n",
    "plt.figure(0).clf()\n",
    "\n",
    "\n",
    "fpr, tpr, thresh = metrics.roc_curve(y_train, pred_train)\n",
    "auc = metrics.roc_auc_score(y_train, pred_train)\n",
    "plt.plot(fpr,tpr,label=\"Train, auc={:.2f}\".format(auc))\n",
    "\n",
    "\n",
    "fpr, tpr, thresh = metrics.roc_curve(y_test, pred_test)\n",
    "auc = metrics.roc_auc_score(y_test, pred_test)\n",
    "plt.plot(fpr,tpr,label=\"Test, auc={:.2f}\".format(auc))\n",
    "\n",
    "plt.legend(loc=0)"
   ]
  },
  {
   "cell_type": "code",
   "execution_count": 16,
   "metadata": {},
   "outputs": [
    {
     "name": "stdout",
     "output_type": "stream",
     "text": [
      "The watermark extension is already loaded. To reload it, use:\n",
      "  %reload_ext watermark\n",
      "Python implementation: CPython\n",
      "Python version       : 3.7.8\n",
      "IPython version      : 7.25.0\n",
      "\n",
      "wget      : 3.2\n",
      "pandas    : 1.2.5\n",
      "numpy     : 1.21.0\n",
      "sklearn   : 0.24.2\n",
      "matplotlib: 3.4.3\n",
      "watermark : 2.2.0\n",
      "\n",
      "Compiler    : Clang 10.0.1 \n",
      "OS          : Darwin\n",
      "Release     : 20.6.0\n",
      "Machine     : x86_64\n",
      "Processor   : i386\n",
      "CPU cores   : 12\n",
      "Architecture: 64bit\n",
      "\n",
      " \n",
      "Last updated: Mon Nov 15 2021 09:37:44AEDT\n",
      "\n"
     ]
    }
   ],
   "source": [
    "# print required packages with version\n",
    "%load_ext watermark\n",
    "\n",
    "#python, packages and machine characteristics\n",
    "%watermark -v -m -p wget,pandas,numpy,sklearn,matplotlib,watermark\n",
    "\n",
    "#date\n",
    "print (\" \")\n",
    "%watermark -u -n -t -z"
   ]
  }
 ],
 "metadata": {
  "kernelspec": {
   "display_name": "Python 3",
   "language": "python",
   "name": "python3"
  },
  "language_info": {
   "codemirror_mode": {
    "name": "ipython",
    "version": 3
   },
   "file_extension": ".py",
   "mimetype": "text/x-python",
   "name": "python",
   "nbconvert_exporter": "python",
   "pygments_lexer": "ipython3",
   "version": "3.7.8"
  }
 },
 "nbformat": 4,
 "nbformat_minor": 4
}
